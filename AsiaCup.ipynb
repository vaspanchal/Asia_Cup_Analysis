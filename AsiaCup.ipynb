{
 "cells": [
  {
   "cell_type": "code",
   "execution_count": 1,
   "id": "6ace6f39",
   "metadata": {},
   "outputs": [],
   "source": [
    "import pandas as pd\n",
    "import matplotlib.pyplot as plt\n",
    "import seaborn as sns"
   ]
  },
  {
   "cell_type": "code",
   "execution_count": 2,
   "id": "d33a749f",
   "metadata": {},
   "outputs": [],
   "source": [
    "ac = pd.read_csv(\"asiacup.csv\")"
   ]
  },
  {
   "cell_type": "code",
   "execution_count": 3,
   "id": "04750082",
   "metadata": {},
   "outputs": [
    {
     "data": {
      "text/plain": [
       "(254, 20)"
      ]
     },
     "execution_count": 3,
     "metadata": {},
     "output_type": "execute_result"
    }
   ],
   "source": [
    "ac.shape"
   ]
  },
  {
   "cell_type": "code",
   "execution_count": 4,
   "id": "7cc81e5f",
   "metadata": {},
   "outputs": [
    {
     "data": {
      "text/plain": [
       "Index(['Team', 'Opponent', 'Format', 'Ground', 'Year', 'Toss', 'Selection',\n",
       "       'Run Scored', 'Wicket Lost', 'Fours', 'Sixes', 'Extras', 'Run Rate',\n",
       "       'Avg Bat Strike Rate', 'Highest Score', 'Wicket Taken', 'Given Extras',\n",
       "       'Highest Individual wicket', 'Player Of The Match', 'Result'],\n",
       "      dtype='object')"
      ]
     },
     "execution_count": 4,
     "metadata": {},
     "output_type": "execute_result"
    }
   ],
   "source": [
    "ac.columns"
   ]
  },
  {
   "cell_type": "code",
   "execution_count": 5,
   "id": "f38d917c",
   "metadata": {},
   "outputs": [
    {
     "data": {
      "text/html": [
       "<div>\n",
       "<style scoped>\n",
       "    .dataframe tbody tr th:only-of-type {\n",
       "        vertical-align: middle;\n",
       "    }\n",
       "\n",
       "    .dataframe tbody tr th {\n",
       "        vertical-align: top;\n",
       "    }\n",
       "\n",
       "    .dataframe thead th {\n",
       "        text-align: right;\n",
       "    }\n",
       "</style>\n",
       "<table border=\"1\" class=\"dataframe\">\n",
       "  <thead>\n",
       "    <tr style=\"text-align: right;\">\n",
       "      <th></th>\n",
       "      <th>Team</th>\n",
       "      <th>Opponent</th>\n",
       "      <th>Format</th>\n",
       "      <th>Ground</th>\n",
       "      <th>Year</th>\n",
       "      <th>Toss</th>\n",
       "      <th>Selection</th>\n",
       "      <th>Run Scored</th>\n",
       "      <th>Wicket Lost</th>\n",
       "      <th>Fours</th>\n",
       "      <th>Sixes</th>\n",
       "      <th>Extras</th>\n",
       "      <th>Run Rate</th>\n",
       "      <th>Avg Bat Strike Rate</th>\n",
       "      <th>Highest Score</th>\n",
       "      <th>Wicket Taken</th>\n",
       "      <th>Given Extras</th>\n",
       "      <th>Highest Individual wicket</th>\n",
       "      <th>Player Of The Match</th>\n",
       "      <th>Result</th>\n",
       "    </tr>\n",
       "  </thead>\n",
       "  <tbody>\n",
       "    <tr>\n",
       "      <th>0</th>\n",
       "      <td>Pakistan</td>\n",
       "      <td>Sri Lanka</td>\n",
       "      <td>ODI</td>\n",
       "      <td>Sharjah</td>\n",
       "      <td>1984</td>\n",
       "      <td>Lose</td>\n",
       "      <td>Batting</td>\n",
       "      <td>187.0</td>\n",
       "      <td>9.0</td>\n",
       "      <td>9.0</td>\n",
       "      <td>3.0</td>\n",
       "      <td>21.0</td>\n",
       "      <td>4.06</td>\n",
       "      <td>52.04</td>\n",
       "      <td>47.0</td>\n",
       "      <td>5.0</td>\n",
       "      <td>26.0</td>\n",
       "      <td>2.0</td>\n",
       "      <td>Roy Dias</td>\n",
       "      <td>Lose</td>\n",
       "    </tr>\n",
       "    <tr>\n",
       "      <th>1</th>\n",
       "      <td>Sri Lanka</td>\n",
       "      <td>Pakistan</td>\n",
       "      <td>ODI</td>\n",
       "      <td>Sharjah</td>\n",
       "      <td>1984</td>\n",
       "      <td>Win</td>\n",
       "      <td>Bowling</td>\n",
       "      <td>190.0</td>\n",
       "      <td>5.0</td>\n",
       "      <td>11.0</td>\n",
       "      <td>1.0</td>\n",
       "      <td>26.0</td>\n",
       "      <td>4.36</td>\n",
       "      <td>68.51</td>\n",
       "      <td>57.0</td>\n",
       "      <td>9.0</td>\n",
       "      <td>21.0</td>\n",
       "      <td>3.0</td>\n",
       "      <td>Roy Dias</td>\n",
       "      <td>Win</td>\n",
       "    </tr>\n",
       "    <tr>\n",
       "      <th>2</th>\n",
       "      <td>India</td>\n",
       "      <td>Sri Lanka</td>\n",
       "      <td>ODI</td>\n",
       "      <td>Sharjah</td>\n",
       "      <td>1984</td>\n",
       "      <td>Win</td>\n",
       "      <td>Bowling</td>\n",
       "      <td>97.0</td>\n",
       "      <td>0.0</td>\n",
       "      <td>9.0</td>\n",
       "      <td>0.0</td>\n",
       "      <td>14.0</td>\n",
       "      <td>4.47</td>\n",
       "      <td>60.48</td>\n",
       "      <td>51.0</td>\n",
       "      <td>10.0</td>\n",
       "      <td>8.0</td>\n",
       "      <td>3.0</td>\n",
       "      <td>Surinder Khanna</td>\n",
       "      <td>Win</td>\n",
       "    </tr>\n",
       "    <tr>\n",
       "      <th>3</th>\n",
       "      <td>Sri Lanka</td>\n",
       "      <td>India</td>\n",
       "      <td>ODI</td>\n",
       "      <td>Sharjah</td>\n",
       "      <td>1984</td>\n",
       "      <td>Lose</td>\n",
       "      <td>Batting</td>\n",
       "      <td>96.0</td>\n",
       "      <td>10.0</td>\n",
       "      <td>7.0</td>\n",
       "      <td>0.0</td>\n",
       "      <td>8.0</td>\n",
       "      <td>2.34</td>\n",
       "      <td>25.74</td>\n",
       "      <td>38.0</td>\n",
       "      <td>0.0</td>\n",
       "      <td>14.0</td>\n",
       "      <td>0.0</td>\n",
       "      <td>Surinder Khanna</td>\n",
       "      <td>Lose</td>\n",
       "    </tr>\n",
       "    <tr>\n",
       "      <th>4</th>\n",
       "      <td>India</td>\n",
       "      <td>Pakistan</td>\n",
       "      <td>ODI</td>\n",
       "      <td>Sharjah</td>\n",
       "      <td>1984</td>\n",
       "      <td>Win</td>\n",
       "      <td>Batting</td>\n",
       "      <td>188.0</td>\n",
       "      <td>4.0</td>\n",
       "      <td>13.0</td>\n",
       "      <td>3.0</td>\n",
       "      <td>17.0</td>\n",
       "      <td>4.08</td>\n",
       "      <td>60.21</td>\n",
       "      <td>56.0</td>\n",
       "      <td>10.0</td>\n",
       "      <td>5.0</td>\n",
       "      <td>3.0</td>\n",
       "      <td>Surinder Khanna</td>\n",
       "      <td>Win</td>\n",
       "    </tr>\n",
       "  </tbody>\n",
       "</table>\n",
       "</div>"
      ],
      "text/plain": [
       "        Team   Opponent Format   Ground  Year  Toss Selection  Run Scored  \\\n",
       "0   Pakistan  Sri Lanka    ODI  Sharjah  1984  Lose   Batting       187.0   \n",
       "1  Sri Lanka   Pakistan    ODI  Sharjah  1984   Win   Bowling       190.0   \n",
       "2      India  Sri Lanka    ODI  Sharjah  1984   Win   Bowling        97.0   \n",
       "3  Sri Lanka      India    ODI  Sharjah  1984  Lose   Batting        96.0   \n",
       "4      India   Pakistan    ODI  Sharjah  1984   Win   Batting       188.0   \n",
       "\n",
       "   Wicket Lost  Fours  Sixes  Extras  Run Rate  Avg Bat Strike Rate  \\\n",
       "0          9.0    9.0    3.0    21.0      4.06                52.04   \n",
       "1          5.0   11.0    1.0    26.0      4.36                68.51   \n",
       "2          0.0    9.0    0.0    14.0      4.47                60.48   \n",
       "3         10.0    7.0    0.0     8.0      2.34                25.74   \n",
       "4          4.0   13.0    3.0    17.0      4.08                60.21   \n",
       "\n",
       "   Highest Score  Wicket Taken  Given Extras  Highest Individual wicket  \\\n",
       "0           47.0           5.0          26.0                        2.0   \n",
       "1           57.0           9.0          21.0                        3.0   \n",
       "2           51.0          10.0           8.0                        3.0   \n",
       "3           38.0           0.0          14.0                        0.0   \n",
       "4           56.0          10.0           5.0                        3.0   \n",
       "\n",
       "  Player Of The Match Result  \n",
       "0            Roy Dias   Lose  \n",
       "1            Roy Dias    Win  \n",
       "2     Surinder Khanna    Win  \n",
       "3     Surinder Khanna   Lose  \n",
       "4     Surinder Khanna    Win  "
      ]
     },
     "execution_count": 5,
     "metadata": {},
     "output_type": "execute_result"
    }
   ],
   "source": [
    "ac.head()"
   ]
  },
  {
   "cell_type": "code",
   "execution_count": 6,
   "id": "1a83013c",
   "metadata": {},
   "outputs": [
    {
     "data": {
      "text/plain": [
       "count           254\n",
       "unique            7\n",
       "top       Sri Lanka\n",
       "freq             60\n",
       "Name: Team, dtype: object"
      ]
     },
     "execution_count": 6,
     "metadata": {},
     "output_type": "execute_result"
    }
   ],
   "source": [
    "ac.Team.describe()"
   ]
  },
  {
   "cell_type": "code",
   "execution_count": 7,
   "id": "c83e2eb6",
   "metadata": {},
   "outputs": [
    {
     "data": {
      "text/plain": [
       "Team\n",
       "Sri Lanka      60\n",
       "India          59\n",
       "Pakistan       55\n",
       "Bangladesh     50\n",
       "Afghanistan    14\n",
       "Hong Kong       8\n",
       "UAE             8\n",
       "Name: count, dtype: int64"
      ]
     },
     "execution_count": 7,
     "metadata": {},
     "output_type": "execute_result"
    }
   ],
   "source": [
    "ac.Team.value_counts()"
   ]
  },
  {
   "cell_type": "code",
   "execution_count": 8,
   "id": "6ef4d0fc",
   "metadata": {},
   "outputs": [
    {
     "data": {
      "text/plain": [
       "Team\n",
       "Sri Lanka      39\n",
       "India          39\n",
       "Pakistan       31\n",
       "Bangladesh      9\n",
       "Afghanistan     5\n",
       "Name: count, dtype: int64"
      ]
     },
     "execution_count": 8,
     "metadata": {},
     "output_type": "execute_result"
    }
   ],
   "source": [
    "win_most = ac[ac[\"Result\"]==\"Win\"]\n",
    "\n",
    "win_count = win_most[\"Team\"].value_counts()\n",
    "win_count"
   ]
  },
  {
   "cell_type": "code",
   "execution_count": 59,
   "id": "97ae07b8",
   "metadata": {},
   "outputs": [
    {
     "data": {
      "image/png": "[encoded data removed]",
      "text/plain": [
       "<Figure size 700x300 with 1 Axes>"
      ]
     },
     "metadata": {},
     "output_type": "display_data"
    }
   ],
   "source": [
    "plt.figure(figsize=(7,3))\n",
    "plt.bar(win_count.keys(),win_count,color=[\"yellow\",\"steelblue\",\"darkgreen\",\"red\",\"lightseagreen\"])\n",
    "plt.show()"
   ]
  },
  {
   "cell_type": "code",
   "execution_count": 61,
   "id": "afa6c590-76d5-4958-b0c2-dd4aff97b72d",
   "metadata": {},
   "outputs": [
    {
     "data": {
      "image/png": "[encoded data removed]",
      "text/plain": [
       "<Figure size 640x480 with 1 Axes>"
      ]
     },
     "metadata": {},
     "output_type": "display_data"
    }
   ],
   "source": [
    "plt.pie(win_count,explode=[0.01,0.01,0.01,0.01,0.1],labels=win_count.keys())\n",
    "plt.show()"
   ]
  },
  {
   "cell_type": "code",
   "execution_count": 10,
   "id": "328294c2",
   "metadata": {},
   "outputs": [
    {
     "data": {
      "text/plain": [
       "Player Of The Match\n",
       "Virat Kohli             12\n",
       "Sanath Jayasuriya       10\n",
       "Shoaib Malik            10\n",
       "Shahid Afridi            8\n",
       "Kumar Sangakkara         8\n",
       "                        ..\n",
       "Younis Khan              2\n",
       "MS Dhoni                 2\n",
       "Tillakaratne Dilshan     2\n",
       "Farveez Maharoof         2\n",
       "Bhanuka Rajapaksa        2\n",
       "Name: count, Length: 78, dtype: int64"
      ]
     },
     "execution_count": 10,
     "metadata": {},
     "output_type": "execute_result"
    }
   ],
   "source": [
    "ac['Player Of The Match'].value_counts() # most potm in asiacup"
   ]
  },
  {
   "cell_type": "code",
   "execution_count": 11,
   "id": "782ecae4",
   "metadata": {},
   "outputs": [
    {
     "data": {
      "text/plain": [
       "Player Of The Match\n",
       "Virat Kohli          12\n",
       "Sanath Jayasuriya    10\n",
       "Shoaib Malik         10\n",
       "Shahid Afridi         8\n",
       "Kumar Sangakkara      8\n",
       "Lasith Malinga        6\n",
       "Marvan Atapattu       6\n",
       "Arjuna Ranatunga      6\n",
       "Shikhar Dhawan        6\n",
       "Navjot Sidhu          6\n",
       "Name: count, dtype: int64"
      ]
     },
     "execution_count": 11,
     "metadata": {},
     "output_type": "execute_result"
    }
   ],
   "source": [
    "ac['Player Of The Match'].value_counts()[0:10] # top 10  potm players in list"
   ]
  },
  {
   "cell_type": "code",
   "execution_count": 12,
   "id": "b99de2cc",
   "metadata": {},
   "outputs": [
    {
     "data": {
      "text/plain": [
       "['Virat Kohli',\n",
       " 'Sanath Jayasuriya',\n",
       " 'Shoaib Malik',\n",
       " 'Shahid Afridi',\n",
       " 'Kumar Sangakkara',\n",
       " 'Lasith Malinga',\n",
       " 'Marvan Atapattu',\n",
       " 'Arjuna Ranatunga',\n",
       " 'Shikhar Dhawan',\n",
       " 'Navjot Sidhu']"
      ]
     },
     "execution_count": 12,
     "metadata": {},
     "output_type": "execute_result"
    }
   ],
   "source": [
    "list(ac['Player Of The Match'].value_counts()[0:10].keys()) # only gives categorical data not frequeny; i made it list(opt)"
   ]
  },
  {
   "cell_type": "code",
   "execution_count": 13,
   "id": "7bbb0a19",
   "metadata": {},
   "outputs": [
    {
     "data": {
      "image/png": "[encoded data removed]",
      "text/plain": [
       "<Figure size 2000x500 with 1 Axes>"
      ]
     },
     "metadata": {},
     "output_type": "display_data"
    }
   ],
   "source": [
    "plt.figure(figsize=(20,5)) # gives (width,height) of graph canvas\n",
    "plt.bar(ac['Player Of The Match'].value_counts()[0:10].keys(),ac['Player Of The Match'].value_counts()[0:10],color=\"darkturquoise\")\n",
    "plt.show()"
   ]
  },
  {
   "cell_type": "code",
   "execution_count": 14,
   "id": "af5f4c37",
   "metadata": {},
   "outputs": [
    {
     "data": {
      "text/plain": [
       "Result\n",
       "Lose         124\n",
       "Win          123\n",
       "No Result      4\n",
       "win            1\n",
       " Win D/L       1\n",
       " Lose D/L      1\n",
       "Name: count, dtype: int64"
      ]
     },
     "execution_count": 14,
     "metadata": {},
     "output_type": "execute_result"
    }
   ],
   "source": [
    "ac[\"Result\"].value_counts()"
   ]
  },
  {
   "cell_type": "code",
   "execution_count": 15,
   "id": "cf395e38",
   "metadata": {},
   "outputs": [
    {
     "data": {
      "text/plain": [
       "Ground\n",
       "Mirpur          48\n",
       "Dubai(DSC)      34\n",
       "Sharjah         28\n",
       "Dhaka           24\n",
       "Colombo(RPS)    20\n",
       "Karachi         20\n",
       "Dambulla        20\n",
       "Colombo(SSC)    16\n",
       "Fatullah        10\n",
       "Abu Dhabi       10\n",
       "Lahore           6\n",
       "Chattogram       4\n",
       "Kolkata          4\n",
       "Colombo(PSS)     2\n",
       "Cuttack          2\n",
       "Chandigarh       2\n",
       "Kandy            2\n",
       "Moratuwa         2\n",
       "Name: count, dtype: int64"
      ]
     },
     "execution_count": 15,
     "metadata": {},
     "output_type": "execute_result"
    }
   ],
   "source": [
    "ac[\"Ground\"].value_counts()"
   ]
  },
  {
   "cell_type": "code",
   "execution_count": 16,
   "id": "a06e7563",
   "metadata": {},
   "outputs": [
    {
     "data": {
      "text/plain": [
       "Format\n",
       "ODI     206\n",
       "T20I     48\n",
       "Name: count, dtype: int64"
      ]
     },
     "execution_count": 16,
     "metadata": {},
     "output_type": "execute_result"
    }
   ],
   "source": [
    "ac[\"Format\"].value_counts()"
   ]
  },
  {
   "cell_type": "code",
   "execution_count": 17,
   "id": "cadcf2c1",
   "metadata": {},
   "outputs": [
    {
     "data": {
      "text/html": [
       "<div>\n",
       "<style scoped>\n",
       "    .dataframe tbody tr th:only-of-type {\n",
       "        vertical-align: middle;\n",
       "    }\n",
       "\n",
       "    .dataframe tbody tr th {\n",
       "        vertical-align: top;\n",
       "    }\n",
       "\n",
       "    .dataframe thead th {\n",
       "        text-align: right;\n",
       "    }\n",
       "</style>\n",
       "<table border=\"1\" class=\"dataframe\">\n",
       "  <thead>\n",
       "    <tr style=\"text-align: right;\">\n",
       "      <th></th>\n",
       "      <th>Team</th>\n",
       "      <th>Opponent</th>\n",
       "      <th>Format</th>\n",
       "      <th>Ground</th>\n",
       "      <th>Year</th>\n",
       "      <th>Toss</th>\n",
       "      <th>Selection</th>\n",
       "      <th>Run Scored</th>\n",
       "      <th>Wicket Lost</th>\n",
       "      <th>Fours</th>\n",
       "      <th>Sixes</th>\n",
       "      <th>Extras</th>\n",
       "      <th>Run Rate</th>\n",
       "      <th>Avg Bat Strike Rate</th>\n",
       "      <th>Highest Score</th>\n",
       "      <th>Wicket Taken</th>\n",
       "      <th>Given Extras</th>\n",
       "      <th>Highest Individual wicket</th>\n",
       "      <th>Player Of The Match</th>\n",
       "      <th>Result</th>\n",
       "    </tr>\n",
       "  </thead>\n",
       "  <tbody>\n",
       "    <tr>\n",
       "      <th>53</th>\n",
       "      <td>Pakistan</td>\n",
       "      <td>Bangladesh</td>\n",
       "      <td>ODI</td>\n",
       "      <td>Colombo(RPS)</td>\n",
       "      <td>1997</td>\n",
       "      <td>Win</td>\n",
       "      <td>Batting</td>\n",
       "      <td>319.0</td>\n",
       "      <td>5.0</td>\n",
       "      <td>28.0</td>\n",
       "      <td>3.0</td>\n",
       "      <td>13.0</td>\n",
       "      <td>6.38</td>\n",
       "      <td>129.10</td>\n",
       "      <td>90.0</td>\n",
       "      <td>10.0</td>\n",
       "      <td>18.0</td>\n",
       "      <td>5.0</td>\n",
       "      <td>Saeed Anwar</td>\n",
       "      <td>Win</td>\n",
       "    </tr>\n",
       "    <tr>\n",
       "      <th>71</th>\n",
       "      <td>Pakistan</td>\n",
       "      <td>Bangladesh</td>\n",
       "      <td>ODI</td>\n",
       "      <td>Dhaka</td>\n",
       "      <td>2000</td>\n",
       "      <td>Win</td>\n",
       "      <td>Batting</td>\n",
       "      <td>320.0</td>\n",
       "      <td>3.0</td>\n",
       "      <td>33.0</td>\n",
       "      <td>6.0</td>\n",
       "      <td>9.0</td>\n",
       "      <td>6.40</td>\n",
       "      <td>111.43</td>\n",
       "      <td>80.0</td>\n",
       "      <td>10.0</td>\n",
       "      <td>22.0</td>\n",
       "      <td>3.0</td>\n",
       "      <td>Imran Nazir</td>\n",
       "      <td>Win</td>\n",
       "    </tr>\n",
       "    <tr>\n",
       "      <th>87</th>\n",
       "      <td>Pakistan</td>\n",
       "      <td>Hong Kong</td>\n",
       "      <td>ODI</td>\n",
       "      <td>Colombo(SSC)</td>\n",
       "      <td>2004</td>\n",
       "      <td>Win</td>\n",
       "      <td>Batting</td>\n",
       "      <td>343.0</td>\n",
       "      <td>5.0</td>\n",
       "      <td>24.0</td>\n",
       "      <td>6.0</td>\n",
       "      <td>13.0</td>\n",
       "      <td>6.86</td>\n",
       "      <td>136.56</td>\n",
       "      <td>144.0</td>\n",
       "      <td>10.0</td>\n",
       "      <td>29.0</td>\n",
       "      <td>4.0</td>\n",
       "      <td>Shoaib Malik</td>\n",
       "      <td>Win</td>\n",
       "    </tr>\n",
       "    <tr>\n",
       "      <th>97</th>\n",
       "      <td>Pakistan</td>\n",
       "      <td>India</td>\n",
       "      <td>ODI</td>\n",
       "      <td>Colombo(RPS)</td>\n",
       "      <td>2004</td>\n",
       "      <td>Win</td>\n",
       "      <td>Batting</td>\n",
       "      <td>300.0</td>\n",
       "      <td>9.0</td>\n",
       "      <td>29.0</td>\n",
       "      <td>2.0</td>\n",
       "      <td>21.0</td>\n",
       "      <td>6.00</td>\n",
       "      <td>68.11</td>\n",
       "      <td>143.0</td>\n",
       "      <td>8.0</td>\n",
       "      <td>38.0</td>\n",
       "      <td>2.0</td>\n",
       "      <td>Shoaib Malik</td>\n",
       "      <td>Win</td>\n",
       "    </tr>\n",
       "    <tr>\n",
       "      <th>104</th>\n",
       "      <td>Bangladesh</td>\n",
       "      <td>UAE</td>\n",
       "      <td>ODI</td>\n",
       "      <td>Lahore</td>\n",
       "      <td>2008</td>\n",
       "      <td>Win</td>\n",
       "      <td>Batting</td>\n",
       "      <td>300.0</td>\n",
       "      <td>8.0</td>\n",
       "      <td>22.0</td>\n",
       "      <td>1.0</td>\n",
       "      <td>18.0</td>\n",
       "      <td>6.00</td>\n",
       "      <td>95.60</td>\n",
       "      <td>109.0</td>\n",
       "      <td>10.0</td>\n",
       "      <td>10.0</td>\n",
       "      <td>3.0</td>\n",
       "      <td>Mohammad Ashraful</td>\n",
       "      <td>Win</td>\n",
       "    </tr>\n",
       "  </tbody>\n",
       "</table>\n",
       "</div>"
      ],
      "text/plain": [
       "           Team    Opponent Format        Ground  Year Toss Selection  \\\n",
       "53     Pakistan  Bangladesh    ODI  Colombo(RPS)  1997  Win   Batting   \n",
       "71     Pakistan  Bangladesh    ODI         Dhaka  2000  Win   Batting   \n",
       "87     Pakistan   Hong Kong    ODI  Colombo(SSC)  2004  Win   Batting   \n",
       "97     Pakistan       India    ODI  Colombo(RPS)  2004  Win   Batting   \n",
       "104  Bangladesh         UAE    ODI        Lahore  2008  Win   Batting   \n",
       "\n",
       "     Run Scored  Wicket Lost  Fours  Sixes  Extras  Run Rate  \\\n",
       "53        319.0          5.0   28.0    3.0    13.0      6.38   \n",
       "71        320.0          3.0   33.0    6.0     9.0      6.40   \n",
       "87        343.0          5.0   24.0    6.0    13.0      6.86   \n",
       "97        300.0          9.0   29.0    2.0    21.0      6.00   \n",
       "104       300.0          8.0   22.0    1.0    18.0      6.00   \n",
       "\n",
       "     Avg Bat Strike Rate  Highest Score  Wicket Taken  Given Extras  \\\n",
       "53                129.10           90.0          10.0          18.0   \n",
       "71                111.43           80.0          10.0          22.0   \n",
       "87                136.56          144.0          10.0          29.0   \n",
       "97                 68.11          143.0           8.0          38.0   \n",
       "104                95.60          109.0          10.0          10.0   \n",
       "\n",
       "     Highest Individual wicket Player Of The Match Result  \n",
       "53                         5.0         Saeed Anwar    Win  \n",
       "71                         3.0         Imran Nazir    Win  \n",
       "87                         4.0        Shoaib Malik    Win  \n",
       "97                         2.0        Shoaib Malik    Win  \n",
       "104                        3.0   Mohammad Ashraful    Win  "
      ]
     },
     "execution_count": 17,
     "metadata": {},
     "output_type": "execute_result"
    }
   ],
   "source": [
    "three_hundreds = ac[ac[\"Run Scored\"]>=300]\n",
    "three_hundreds.head()"
   ]
  },
  {
   "cell_type": "code",
   "execution_count": null,
   "id": "db9b9149-ed2e-422d-bcf4-4866b22fc44d",
   "metadata": {},
   "outputs": [],
   "source": []
  },
  {
   "cell_type": "code",
   "execution_count": 18,
   "id": "0420d878",
   "metadata": {},
   "outputs": [
    {
     "data": {
      "text/plain": [
       "(21, 20)"
      ]
     },
     "execution_count": 18,
     "metadata": {},
     "output_type": "execute_result"
    }
   ],
   "source": [
    "three_hundreds.shape"
   ]
  },
  {
   "cell_type": "markdown",
   "id": "23e4aa0e",
   "metadata": {},
   "source": [
    "**Histograms are used to display numeric data to show frequency in a range**"
   ]
  },
  {
   "cell_type": "code",
   "execution_count": 19,
   "id": "173f49e0",
   "metadata": {},
   "outputs": [
    {
     "name": "stderr",
     "output_type": "stream",
     "text": [
      "C:\\python3114\\Lib\\site-packages\\seaborn\\_oldcore.py:1498: FutureWarning: is_categorical_dtype is deprecated and will be removed in a future version. Use isinstance(dtype, CategoricalDtype) instead\n",
      "  if pd.api.types.is_categorical_dtype(vector):\n",
      "C:\\python3114\\Lib\\site-packages\\seaborn\\_oldcore.py:1119: FutureWarning: use_inf_as_na option is deprecated and will be removed in a future version. Convert inf values to NaN before operating instead.\n",
      "  with pd.option_context('mode.use_inf_as_na', True):\n"
     ]
    },
    {
     "data": {
      "image/png": "[encoded data removed]",
      "text/plain": [
       "<Figure size 500x300 with 1 Axes>"
      ]
     },
     "metadata": {},
     "output_type": "display_data"
    }
   ],
   "source": [
    "# making histogram\n",
    "plt.figure(figsize=(5,3))\n",
    "sns.histplot(three_hundreds[\"Run Scored\"],color=\"mediumorchid\",bins=30)\n",
    "plt.show()"
   ]
  },
  {
   "cell_type": "code",
   "execution_count": 20,
   "id": "21540619",
   "metadata": {},
   "outputs": [
    {
     "data": {
      "text/html": [
       "<div>\n",
       "<style scoped>\n",
       "    .dataframe tbody tr th:only-of-type {\n",
       "        vertical-align: middle;\n",
       "    }\n",
       "\n",
       "    .dataframe tbody tr th {\n",
       "        vertical-align: top;\n",
       "    }\n",
       "\n",
       "    .dataframe thead th {\n",
       "        text-align: right;\n",
       "    }\n",
       "</style>\n",
       "<table border=\"1\" class=\"dataframe\">\n",
       "  <thead>\n",
       "    <tr style=\"text-align: right;\">\n",
       "      <th></th>\n",
       "      <th>Team</th>\n",
       "      <th>Opponent</th>\n",
       "      <th>Format</th>\n",
       "      <th>Ground</th>\n",
       "      <th>Year</th>\n",
       "      <th>Toss</th>\n",
       "      <th>Selection</th>\n",
       "      <th>Run Scored</th>\n",
       "      <th>Wicket Lost</th>\n",
       "      <th>Fours</th>\n",
       "      <th>Sixes</th>\n",
       "      <th>Extras</th>\n",
       "      <th>Run Rate</th>\n",
       "      <th>Avg Bat Strike Rate</th>\n",
       "      <th>Highest Score</th>\n",
       "      <th>Wicket Taken</th>\n",
       "      <th>Given Extras</th>\n",
       "      <th>Highest Individual wicket</th>\n",
       "      <th>Player Of The Match</th>\n",
       "      <th>Result</th>\n",
       "    </tr>\n",
       "  </thead>\n",
       "  <tbody>\n",
       "    <tr>\n",
       "      <th>53</th>\n",
       "      <td>Pakistan</td>\n",
       "      <td>Bangladesh</td>\n",
       "      <td>ODI</td>\n",
       "      <td>Colombo(RPS)</td>\n",
       "      <td>1997</td>\n",
       "      <td>Win</td>\n",
       "      <td>Batting</td>\n",
       "      <td>319.0</td>\n",
       "      <td>5.0</td>\n",
       "      <td>28.0</td>\n",
       "      <td>3.0</td>\n",
       "      <td>13.0</td>\n",
       "      <td>6.38</td>\n",
       "      <td>129.10</td>\n",
       "      <td>90.0</td>\n",
       "      <td>10.0</td>\n",
       "      <td>18.0</td>\n",
       "      <td>5.0</td>\n",
       "      <td>Saeed Anwar</td>\n",
       "      <td>Win</td>\n",
       "    </tr>\n",
       "    <tr>\n",
       "      <th>71</th>\n",
       "      <td>Pakistan</td>\n",
       "      <td>Bangladesh</td>\n",
       "      <td>ODI</td>\n",
       "      <td>Dhaka</td>\n",
       "      <td>2000</td>\n",
       "      <td>Win</td>\n",
       "      <td>Batting</td>\n",
       "      <td>320.0</td>\n",
       "      <td>3.0</td>\n",
       "      <td>33.0</td>\n",
       "      <td>6.0</td>\n",
       "      <td>9.0</td>\n",
       "      <td>6.40</td>\n",
       "      <td>111.43</td>\n",
       "      <td>80.0</td>\n",
       "      <td>10.0</td>\n",
       "      <td>22.0</td>\n",
       "      <td>3.0</td>\n",
       "      <td>Imran Nazir</td>\n",
       "      <td>Win</td>\n",
       "    </tr>\n",
       "    <tr>\n",
       "      <th>87</th>\n",
       "      <td>Pakistan</td>\n",
       "      <td>Hong Kong</td>\n",
       "      <td>ODI</td>\n",
       "      <td>Colombo(SSC)</td>\n",
       "      <td>2004</td>\n",
       "      <td>Win</td>\n",
       "      <td>Batting</td>\n",
       "      <td>343.0</td>\n",
       "      <td>5.0</td>\n",
       "      <td>24.0</td>\n",
       "      <td>6.0</td>\n",
       "      <td>13.0</td>\n",
       "      <td>6.86</td>\n",
       "      <td>136.56</td>\n",
       "      <td>144.0</td>\n",
       "      <td>10.0</td>\n",
       "      <td>29.0</td>\n",
       "      <td>4.0</td>\n",
       "      <td>Shoaib Malik</td>\n",
       "      <td>Win</td>\n",
       "    </tr>\n",
       "    <tr>\n",
       "      <th>97</th>\n",
       "      <td>Pakistan</td>\n",
       "      <td>India</td>\n",
       "      <td>ODI</td>\n",
       "      <td>Colombo(RPS)</td>\n",
       "      <td>2004</td>\n",
       "      <td>Win</td>\n",
       "      <td>Batting</td>\n",
       "      <td>300.0</td>\n",
       "      <td>9.0</td>\n",
       "      <td>29.0</td>\n",
       "      <td>2.0</td>\n",
       "      <td>21.0</td>\n",
       "      <td>6.00</td>\n",
       "      <td>68.11</td>\n",
       "      <td>143.0</td>\n",
       "      <td>8.0</td>\n",
       "      <td>38.0</td>\n",
       "      <td>2.0</td>\n",
       "      <td>Shoaib Malik</td>\n",
       "      <td>Win</td>\n",
       "    </tr>\n",
       "    <tr>\n",
       "      <th>104</th>\n",
       "      <td>Bangladesh</td>\n",
       "      <td>UAE</td>\n",
       "      <td>ODI</td>\n",
       "      <td>Lahore</td>\n",
       "      <td>2008</td>\n",
       "      <td>Win</td>\n",
       "      <td>Batting</td>\n",
       "      <td>300.0</td>\n",
       "      <td>8.0</td>\n",
       "      <td>22.0</td>\n",
       "      <td>1.0</td>\n",
       "      <td>18.0</td>\n",
       "      <td>6.00</td>\n",
       "      <td>95.60</td>\n",
       "      <td>109.0</td>\n",
       "      <td>10.0</td>\n",
       "      <td>10.0</td>\n",
       "      <td>3.0</td>\n",
       "      <td>Mohammad Ashraful</td>\n",
       "      <td>Win</td>\n",
       "    </tr>\n",
       "  </tbody>\n",
       "</table>\n",
       "</div>"
      ],
      "text/plain": [
       "           Team    Opponent Format        Ground  Year Toss Selection  \\\n",
       "53     Pakistan  Bangladesh    ODI  Colombo(RPS)  1997  Win   Batting   \n",
       "71     Pakistan  Bangladesh    ODI         Dhaka  2000  Win   Batting   \n",
       "87     Pakistan   Hong Kong    ODI  Colombo(SSC)  2004  Win   Batting   \n",
       "97     Pakistan       India    ODI  Colombo(RPS)  2004  Win   Batting   \n",
       "104  Bangladesh         UAE    ODI        Lahore  2008  Win   Batting   \n",
       "\n",
       "     Run Scored  Wicket Lost  Fours  Sixes  Extras  Run Rate  \\\n",
       "53        319.0          5.0   28.0    3.0    13.0      6.38   \n",
       "71        320.0          3.0   33.0    6.0     9.0      6.40   \n",
       "87        343.0          5.0   24.0    6.0    13.0      6.86   \n",
       "97        300.0          9.0   29.0    2.0    21.0      6.00   \n",
       "104       300.0          8.0   22.0    1.0    18.0      6.00   \n",
       "\n",
       "     Avg Bat Strike Rate  Highest Score  Wicket Taken  Given Extras  \\\n",
       "53                129.10           90.0          10.0          18.0   \n",
       "71                111.43           80.0          10.0          22.0   \n",
       "87                136.56          144.0          10.0          29.0   \n",
       "97                 68.11          143.0           8.0          38.0   \n",
       "104                95.60          109.0          10.0          10.0   \n",
       "\n",
       "     Highest Individual wicket Player Of The Match Result  \n",
       "53                         5.0         Saeed Anwar    Win  \n",
       "71                         3.0         Imran Nazir    Win  \n",
       "87                         4.0        Shoaib Malik    Win  \n",
       "97                         2.0        Shoaib Malik    Win  \n",
       "104                        3.0   Mohammad Ashraful    Win  "
      ]
     },
     "execution_count": 20,
     "metadata": {},
     "output_type": "execute_result"
    }
   ],
   "source": [
    "three_hundreds_ODI = three_hundreds[three_hundreds[\"Format\"]==\"ODI\"] # it will be helpful in specify data\n",
    "three_hundreds_ODI.head()\n"
   ]
  },
  {
   "cell_type": "code",
   "execution_count": 21,
   "id": "54a9b486",
   "metadata": {},
   "outputs": [
    {
     "data": {
      "text/plain": [
       "(21, 20)"
      ]
     },
     "execution_count": 21,
     "metadata": {},
     "output_type": "execute_result"
    }
   ],
   "source": [
    "three_hundreds_ODI.shape"
   ]
  },
  {
   "cell_type": "code",
   "execution_count": 22,
   "id": "553484dd",
   "metadata": {},
   "outputs": [
    {
     "data": {
      "text/plain": [
       "Team\n",
       "Pakistan      8\n",
       "India         6\n",
       "Sri Lanka     5\n",
       "Bangladesh    2\n",
       "Name: count, dtype: int64"
      ]
     },
     "execution_count": 22,
     "metadata": {},
     "output_type": "execute_result"
    }
   ],
   "source": [
    "country_stat = three_hundreds_ODI[\"Team\"].value_counts() # Pakistan is the team with most 300+ score in ODI Asia Cup\n",
    "country_stat"
   ]
  },
  {
   "cell_type": "code",
   "execution_count": 23,
   "id": "61e06b96",
   "metadata": {},
   "outputs": [
    {
     "data": {
      "image/png": "[encoded data removed]",
      "text/plain": [
       "<Figure size 500x300 with 1 Axes>"
      ]
     },
     "metadata": {},
     "output_type": "display_data"
    }
   ],
   "source": [
    "plt.figure(figsize=(5,3))\n",
    "plt.bar(country_stat.keys(),country_stat,color=[\"darkgreen\",\"steelblue\",\"yellow\",\"red\"])\n",
    "plt.show()"
   ]
  },
  {
   "cell_type": "code",
   "execution_count": null,
   "id": "8c270677",
   "metadata": {},
   "outputs": [],
   "source": []
  },
  {
   "cell_type": "code",
   "execution_count": 24,
   "id": "4b0a0acd",
   "metadata": {},
   "outputs": [
    {
     "data": {
      "text/plain": [
       "Year\n",
       "2008    10\n",
       "2012     3\n",
       "2004     2\n",
       "2010     2\n",
       "2014     2\n",
       "1997     1\n",
       "2000     1\n",
       "Name: count, dtype: int64"
      ]
     },
     "execution_count": 24,
     "metadata": {},
     "output_type": "execute_result"
    }
   ],
   "source": [
    "year_stat = three_hundreds_ODI[\"Year\"].value_counts() # most 300+ scored\n",
    "year_stat"
   ]
  },
  {
   "cell_type": "code",
   "execution_count": 25,
   "id": "020253de",
   "metadata": {},
   "outputs": [
    {
     "name": "stderr",
     "output_type": "stream",
     "text": [
      "C:\\python3114\\Lib\\site-packages\\seaborn\\_oldcore.py:1498: FutureWarning: is_categorical_dtype is deprecated and will be removed in a future version. Use isinstance(dtype, CategoricalDtype) instead\n",
      "  if pd.api.types.is_categorical_dtype(vector):\n",
      "C:\\python3114\\Lib\\site-packages\\seaborn\\_oldcore.py:1498: FutureWarning: is_categorical_dtype is deprecated and will be removed in a future version. Use isinstance(dtype, CategoricalDtype) instead\n",
      "  if pd.api.types.is_categorical_dtype(vector):\n",
      "C:\\python3114\\Lib\\site-packages\\seaborn\\_oldcore.py:1498: FutureWarning: is_categorical_dtype is deprecated and will be removed in a future version. Use isinstance(dtype, CategoricalDtype) instead\n",
      "  if pd.api.types.is_categorical_dtype(vector):\n"
     ]
    },
    {
     "data": {
      "image/png": "[encoded data removed]",
      "text/plain": [
       "<Figure size 500x300 with 1 Axes>"
      ]
     },
     "metadata": {},
     "output_type": "display_data"
    }
   ],
   "source": [
    "plt.figure(figsize=(5,3))\n",
    "\n",
    "sns.barplot(x=year_stat.keys(),y=year_stat,data=ac,palette=\"rocket\")\n",
    "plt.show()"
   ]
  },
  {
   "cell_type": "code",
   "execution_count": 26,
   "id": "cf5b44aa",
   "metadata": {},
   "outputs": [
    {
     "data": {
      "text/html": [
       "<div>\n",
       "<style scoped>\n",
       "    .dataframe tbody tr th:only-of-type {\n",
       "        vertical-align: middle;\n",
       "    }\n",
       "\n",
       "    .dataframe tbody tr th {\n",
       "        vertical-align: top;\n",
       "    }\n",
       "\n",
       "    .dataframe thead th {\n",
       "        text-align: right;\n",
       "    }\n",
       "</style>\n",
       "<table border=\"1\" class=\"dataframe\">\n",
       "  <thead>\n",
       "    <tr style=\"text-align: right;\">\n",
       "      <th></th>\n",
       "      <th>Team</th>\n",
       "      <th>Opponent</th>\n",
       "      <th>Format</th>\n",
       "      <th>Ground</th>\n",
       "      <th>Year</th>\n",
       "      <th>Toss</th>\n",
       "      <th>Selection</th>\n",
       "      <th>Run Scored</th>\n",
       "      <th>Wicket Lost</th>\n",
       "      <th>Fours</th>\n",
       "      <th>Sixes</th>\n",
       "      <th>Extras</th>\n",
       "      <th>Run Rate</th>\n",
       "      <th>Avg Bat Strike Rate</th>\n",
       "      <th>Highest Score</th>\n",
       "      <th>Wicket Taken</th>\n",
       "      <th>Given Extras</th>\n",
       "      <th>Highest Individual wicket</th>\n",
       "      <th>Player Of The Match</th>\n",
       "      <th>Result</th>\n",
       "    </tr>\n",
       "  </thead>\n",
       "  <tbody>\n",
       "    <tr>\n",
       "      <th>18</th>\n",
       "      <td>India</td>\n",
       "      <td>Sri Lanka</td>\n",
       "      <td>ODI</td>\n",
       "      <td>Dhaka</td>\n",
       "      <td>1988</td>\n",
       "      <td>Win</td>\n",
       "      <td>Bowling</td>\n",
       "      <td>254.0</td>\n",
       "      <td>10.0</td>\n",
       "      <td>14.0</td>\n",
       "      <td>4.0</td>\n",
       "      <td>5.0</td>\n",
       "      <td>5.77</td>\n",
       "      <td>97.52</td>\n",
       "      <td>50.0</td>\n",
       "      <td>6.0</td>\n",
       "      <td>13.0</td>\n",
       "      <td>2.0</td>\n",
       "      <td>Aravinda de Silva</td>\n",
       "      <td>Lose</td>\n",
       "    </tr>\n",
       "    <tr>\n",
       "      <th>19</th>\n",
       "      <td>Sri Lanka</td>\n",
       "      <td>India</td>\n",
       "      <td>ODI</td>\n",
       "      <td>Dhaka</td>\n",
       "      <td>1988</td>\n",
       "      <td>Lose</td>\n",
       "      <td>Batting</td>\n",
       "      <td>271.0</td>\n",
       "      <td>6.0</td>\n",
       "      <td>12.0</td>\n",
       "      <td>2.0</td>\n",
       "      <td>13.0</td>\n",
       "      <td>6.02</td>\n",
       "      <td>106.61</td>\n",
       "      <td>69.0</td>\n",
       "      <td>10.0</td>\n",
       "      <td>5.0</td>\n",
       "      <td>4.0</td>\n",
       "      <td>Aravinda de Silva</td>\n",
       "      <td>Win</td>\n",
       "    </tr>\n",
       "    <tr>\n",
       "      <th>21</th>\n",
       "      <td>Pakistan</td>\n",
       "      <td>Bangladesh</td>\n",
       "      <td>ODI</td>\n",
       "      <td>Chattogram</td>\n",
       "      <td>1988</td>\n",
       "      <td>Win</td>\n",
       "      <td>Batting</td>\n",
       "      <td>284.0</td>\n",
       "      <td>3.0</td>\n",
       "      <td>9.0</td>\n",
       "      <td>4.0</td>\n",
       "      <td>23.0</td>\n",
       "      <td>6.31</td>\n",
       "      <td>76.52</td>\n",
       "      <td>124.0</td>\n",
       "      <td>6.0</td>\n",
       "      <td>15.0</td>\n",
       "      <td>3.0</td>\n",
       "      <td>Moin ul Atiq</td>\n",
       "      <td>Win</td>\n",
       "    </tr>\n",
       "    <tr>\n",
       "      <th>31</th>\n",
       "      <td>Sri Lanka</td>\n",
       "      <td>India</td>\n",
       "      <td>ODI</td>\n",
       "      <td>Cuttack</td>\n",
       "      <td>1990</td>\n",
       "      <td>Win</td>\n",
       "      <td>Batting</td>\n",
       "      <td>214.0</td>\n",
       "      <td>10.0</td>\n",
       "      <td>2.0</td>\n",
       "      <td>1.0</td>\n",
       "      <td>32.0</td>\n",
       "      <td>4.33</td>\n",
       "      <td>46.93</td>\n",
       "      <td>53.0</td>\n",
       "      <td>10.0</td>\n",
       "      <td>13.0</td>\n",
       "      <td>3.0</td>\n",
       "      <td>Arjuna Ranatunga</td>\n",
       "      <td>Win</td>\n",
       "    </tr>\n",
       "    <tr>\n",
       "      <th>33</th>\n",
       "      <td>Sri Lanka</td>\n",
       "      <td>Bangladesh</td>\n",
       "      <td>ODI</td>\n",
       "      <td>Kolkata</td>\n",
       "      <td>1990</td>\n",
       "      <td>Win</td>\n",
       "      <td>Batting</td>\n",
       "      <td>249.0</td>\n",
       "      <td>4.0</td>\n",
       "      <td>0.0</td>\n",
       "      <td>0.0</td>\n",
       "      <td>15.0</td>\n",
       "      <td>5.53</td>\n",
       "      <td>81.82</td>\n",
       "      <td>89.0</td>\n",
       "      <td>9.0</td>\n",
       "      <td>20.0</td>\n",
       "      <td>2.0</td>\n",
       "      <td>Athar Ali Khan</td>\n",
       "      <td>Win</td>\n",
       "    </tr>\n",
       "  </tbody>\n",
       "</table>\n",
       "</div>"
      ],
      "text/plain": [
       "         Team    Opponent Format      Ground  Year  Toss Selection  \\\n",
       "18      India   Sri Lanka    ODI       Dhaka  1988   Win   Bowling   \n",
       "19  Sri Lanka       India    ODI       Dhaka  1988  Lose   Batting   \n",
       "21   Pakistan  Bangladesh    ODI  Chattogram  1988   Win   Batting   \n",
       "31  Sri Lanka       India    ODI     Cuttack  1990   Win   Batting   \n",
       "33  Sri Lanka  Bangladesh    ODI     Kolkata  1990   Win   Batting   \n",
       "\n",
       "    Run Scored  Wicket Lost  Fours  Sixes  Extras  Run Rate  \\\n",
       "18       254.0         10.0   14.0    4.0     5.0      5.77   \n",
       "19       271.0          6.0   12.0    2.0    13.0      6.02   \n",
       "21       284.0          3.0    9.0    4.0    23.0      6.31   \n",
       "31       214.0         10.0    2.0    1.0    32.0      4.33   \n",
       "33       249.0          4.0    0.0    0.0    15.0      5.53   \n",
       "\n",
       "    Avg Bat Strike Rate  Highest Score  Wicket Taken  Given Extras  \\\n",
       "18                97.52           50.0           6.0          13.0   \n",
       "19               106.61           69.0          10.0           5.0   \n",
       "21                76.52          124.0           6.0          15.0   \n",
       "31                46.93           53.0          10.0          13.0   \n",
       "33                81.82           89.0           9.0          20.0   \n",
       "\n",
       "    Highest Individual wicket Player Of The Match Result  \n",
       "18                        2.0   Aravinda de Silva   Lose  \n",
       "19                        4.0   Aravinda de Silva    Win  \n",
       "21                        3.0        Moin ul Atiq    Win  \n",
       "31                        3.0    Arjuna Ranatunga    Win  \n",
       "33                        2.0      Athar Ali Khan    Win  "
      ]
     },
     "execution_count": 26,
     "metadata": {},
     "output_type": "execute_result"
    }
   ],
   "source": [
    "two_hundreds = ac[ac[\"Run Scored\"]>=200] # same for t20 as above for odi\n",
    "two_hundreds.head()"
   ]
  },
  {
   "cell_type": "code",
   "execution_count": 27,
   "id": "a08cfb28",
   "metadata": {},
   "outputs": [
    {
     "data": {
      "text/plain": [
       "(121, 20)"
      ]
     },
     "execution_count": 27,
     "metadata": {},
     "output_type": "execute_result"
    }
   ],
   "source": [
    "two_hundreds.shape"
   ]
  },
  {
   "cell_type": "code",
   "execution_count": 28,
   "id": "92caae88",
   "metadata": {},
   "outputs": [
    {
     "data": {
      "text/plain": [
       "(1, 20)"
      ]
     },
     "execution_count": 28,
     "metadata": {},
     "output_type": "execute_result"
    }
   ],
   "source": [
    "two_hundreds_T20I = two_hundreds[two_hundreds[\"Format\"]==\"T20I\"]\n",
    "two_hundreds_T20I.shape"
   ]
  },
  {
   "cell_type": "code",
   "execution_count": 29,
   "id": "14b198bc",
   "metadata": {},
   "outputs": [
    {
     "data": {
      "text/html": [
       "<div>\n",
       "<style scoped>\n",
       "    .dataframe tbody tr th:only-of-type {\n",
       "        vertical-align: middle;\n",
       "    }\n",
       "\n",
       "    .dataframe tbody tr th {\n",
       "        vertical-align: top;\n",
       "    }\n",
       "\n",
       "    .dataframe thead th {\n",
       "        text-align: right;\n",
       "    }\n",
       "</style>\n",
       "<table border=\"1\" class=\"dataframe\">\n",
       "  <thead>\n",
       "    <tr style=\"text-align: right;\">\n",
       "      <th></th>\n",
       "      <th>Team</th>\n",
       "      <th>Opponent</th>\n",
       "      <th>Format</th>\n",
       "      <th>Ground</th>\n",
       "      <th>Year</th>\n",
       "      <th>Toss</th>\n",
       "      <th>Selection</th>\n",
       "      <th>Run Scored</th>\n",
       "      <th>Wicket Lost</th>\n",
       "      <th>Fours</th>\n",
       "      <th>Sixes</th>\n",
       "      <th>Extras</th>\n",
       "      <th>Run Rate</th>\n",
       "      <th>Avg Bat Strike Rate</th>\n",
       "      <th>Highest Score</th>\n",
       "      <th>Wicket Taken</th>\n",
       "      <th>Given Extras</th>\n",
       "      <th>Highest Individual wicket</th>\n",
       "      <th>Player Of The Match</th>\n",
       "      <th>Result</th>\n",
       "    </tr>\n",
       "  </thead>\n",
       "  <tbody>\n",
       "    <tr>\n",
       "      <th>249</th>\n",
       "      <td>India</td>\n",
       "      <td>Afghanistan</td>\n",
       "      <td>T20I</td>\n",
       "      <td>Dubai(DSC)</td>\n",
       "      <td>2022</td>\n",
       "      <td>Lose</td>\n",
       "      <td>Batting</td>\n",
       "      <td>212.0</td>\n",
       "      <td>2.0</td>\n",
       "      <td>21.0</td>\n",
       "      <td>9.0</td>\n",
       "      <td>2.0</td>\n",
       "      <td>10.6</td>\n",
       "      <td>194.05</td>\n",
       "      <td>122.0</td>\n",
       "      <td>8.0</td>\n",
       "      <td>3.0</td>\n",
       "      <td>5.0</td>\n",
       "      <td>Virat Kohli</td>\n",
       "      <td>Win</td>\n",
       "    </tr>\n",
       "  </tbody>\n",
       "</table>\n",
       "</div>"
      ],
      "text/plain": [
       "      Team     Opponent Format      Ground  Year  Toss Selection  Run Scored  \\\n",
       "249  India  Afghanistan   T20I  Dubai(DSC)  2022  Lose   Batting       212.0   \n",
       "\n",
       "     Wicket Lost  Fours  Sixes  Extras  Run Rate  Avg Bat Strike Rate  \\\n",
       "249          2.0   21.0    9.0     2.0      10.6               194.05   \n",
       "\n",
       "     Highest Score  Wicket Taken  Given Extras  Highest Individual wicket  \\\n",
       "249          122.0           8.0           3.0                        5.0   \n",
       "\n",
       "    Player Of The Match Result  \n",
       "249         Virat Kohli    Win  "
      ]
     },
     "execution_count": 29,
     "metadata": {},
     "output_type": "execute_result"
    }
   ],
   "source": [
    "two_hundreds_T20I # India is the only country in Asia cup t20 to score 200+"
   ]
  },
  {
   "cell_type": "code",
   "execution_count": 30,
   "id": "a50c29d7",
   "metadata": {},
   "outputs": [
    {
     "data": {
      "text/plain": [
       "<bound method DataFrame.min of           Team     Opponent Format      Ground  Year  Toss Selection  \\\n",
       "0     Pakistan    Sri Lanka    ODI     Sharjah  1984  Lose   Batting   \n",
       "1    Sri Lanka     Pakistan    ODI     Sharjah  1984   Win   Bowling   \n",
       "2        India    Sri Lanka    ODI     Sharjah  1984   Win   Bowling   \n",
       "3    Sri Lanka        India    ODI     Sharjah  1984  Lose   Batting   \n",
       "4        India     Pakistan    ODI     Sharjah  1984   Win   Batting   \n",
       "..         ...          ...    ...         ...   ...   ...       ...   \n",
       "249      India  Afghanistan   T20I  Dubai(DSC)  2022  Lose   Batting   \n",
       "250   Pakistan    Sri Lanka   T20I  Dubai(DSC)  2022  Lose   Batting   \n",
       "251  Sri Lanka     Pakistan   T20I  Dubai(DSC)  2022   Win   Bowling   \n",
       "252   Pakistan    Sri Lanka   T20I  Dubai(DSC)  2022   Win   Bowling   \n",
       "253  Sri Lanka     Pakistan   T20I  Dubai(DSC)  2022  Lose   Batting   \n",
       "\n",
       "     Run Scored  Wicket Lost  Fours  Sixes  Extras  Run Rate  \\\n",
       "0         187.0          9.0    9.0    3.0    21.0      4.06   \n",
       "1         190.0          5.0   11.0    1.0    26.0      4.36   \n",
       "2          97.0          0.0    9.0    0.0    14.0      4.47   \n",
       "3          96.0         10.0    7.0    0.0     8.0      2.34   \n",
       "4         188.0          4.0   13.0    3.0    17.0      4.08   \n",
       "..          ...          ...    ...    ...     ...       ...   \n",
       "249       212.0          2.0   21.0    9.0     2.0     10.60   \n",
       "250       121.0         10.0    4.0    3.0    17.0      6.31   \n",
       "251       124.0          5.0    9.0    5.0     5.0      7.29   \n",
       "252       147.0         10.0    9.0    4.0    14.0      7.35   \n",
       "253       170.0          6.0   16.0    5.0    10.0      8.50   \n",
       "\n",
       "     Avg Bat Strike Rate  Highest Score  Wicket Taken  Given Extras  \\\n",
       "0                  52.04           47.0           5.0          26.0   \n",
       "1                  68.51           57.0           9.0          21.0   \n",
       "2                  60.48           51.0          10.0           8.0   \n",
       "3                  25.74           38.0           0.0          14.0   \n",
       "4                  60.21           56.0          10.0           5.0   \n",
       "..                   ...            ...           ...           ...   \n",
       "249               194.05          122.0           8.0           3.0   \n",
       "250                58.78           30.0           5.0           5.0   \n",
       "251               111.50           55.0          10.0          17.0   \n",
       "252                99.38           55.0           6.0          10.0   \n",
       "253                90.86           71.0          10.0          14.0   \n",
       "\n",
       "     Highest Individual wicket         Player Of The Match Result  \n",
       "0                          2.0                    Roy Dias   Lose  \n",
       "1                          3.0                    Roy Dias    Win  \n",
       "2                          3.0             Surinder Khanna    Win  \n",
       "3                          0.0             Surinder Khanna   Lose  \n",
       "4                          3.0             Surinder Khanna    Win  \n",
       "..                         ...                         ...    ...  \n",
       "249                        5.0                 Virat Kohli    Win  \n",
       "250                        2.0  Wanindu Hasaranga de Silva   Lose  \n",
       "251                        3.0  Wanindu Hasaranga de Silva    Win  \n",
       "252                        3.0           Bhanuka Rajapaksa   Lose  \n",
       "253                        4.0           Bhanuka Rajapaksa    Win  \n",
       "\n",
       "[254 rows x 20 columns]>"
      ]
     },
     "execution_count": 30,
     "metadata": {},
     "output_type": "execute_result"
    }
   ],
   "source": [
    "ac.min"
   ]
  },
  {
   "cell_type": "code",
   "execution_count": 31,
   "id": "c89b51c3",
   "metadata": {},
   "outputs": [
    {
     "data": {
      "text/html": [
       "<div>\n",
       "<style scoped>\n",
       "    .dataframe tbody tr th:only-of-type {\n",
       "        vertical-align: middle;\n",
       "    }\n",
       "\n",
       "    .dataframe tbody tr th {\n",
       "        vertical-align: top;\n",
       "    }\n",
       "\n",
       "    .dataframe thead th {\n",
       "        text-align: right;\n",
       "    }\n",
       "</style>\n",
       "<table border=\"1\" class=\"dataframe\">\n",
       "  <thead>\n",
       "    <tr style=\"text-align: right;\">\n",
       "      <th></th>\n",
       "      <th>Team</th>\n",
       "      <th>Opponent</th>\n",
       "      <th>Format</th>\n",
       "      <th>Ground</th>\n",
       "      <th>Year</th>\n",
       "      <th>Toss</th>\n",
       "      <th>Selection</th>\n",
       "      <th>Run Scored</th>\n",
       "      <th>Wicket Lost</th>\n",
       "      <th>Fours</th>\n",
       "      <th>Sixes</th>\n",
       "      <th>Extras</th>\n",
       "      <th>Run Rate</th>\n",
       "      <th>Avg Bat Strike Rate</th>\n",
       "      <th>Highest Score</th>\n",
       "      <th>Wicket Taken</th>\n",
       "      <th>Given Extras</th>\n",
       "      <th>Highest Individual wicket</th>\n",
       "      <th>Player Of The Match</th>\n",
       "      <th>Result</th>\n",
       "    </tr>\n",
       "  </thead>\n",
       "  <tbody>\n",
       "    <tr>\n",
       "      <th>2</th>\n",
       "      <td>India</td>\n",
       "      <td>Sri Lanka</td>\n",
       "      <td>ODI</td>\n",
       "      <td>Sharjah</td>\n",
       "      <td>1984</td>\n",
       "      <td>Win</td>\n",
       "      <td>Bowling</td>\n",
       "      <td>97.0</td>\n",
       "      <td>0.0</td>\n",
       "      <td>9.0</td>\n",
       "      <td>0.0</td>\n",
       "      <td>14.0</td>\n",
       "      <td>4.47</td>\n",
       "      <td>60.48</td>\n",
       "      <td>51.0</td>\n",
       "      <td>10.0</td>\n",
       "      <td>8.0</td>\n",
       "      <td>3.0</td>\n",
       "      <td>Surinder Khanna</td>\n",
       "      <td>Win</td>\n",
       "    </tr>\n",
       "    <tr>\n",
       "      <th>3</th>\n",
       "      <td>Sri Lanka</td>\n",
       "      <td>India</td>\n",
       "      <td>ODI</td>\n",
       "      <td>Sharjah</td>\n",
       "      <td>1984</td>\n",
       "      <td>Lose</td>\n",
       "      <td>Batting</td>\n",
       "      <td>96.0</td>\n",
       "      <td>10.0</td>\n",
       "      <td>7.0</td>\n",
       "      <td>0.0</td>\n",
       "      <td>8.0</td>\n",
       "      <td>2.34</td>\n",
       "      <td>25.74</td>\n",
       "      <td>38.0</td>\n",
       "      <td>0.0</td>\n",
       "      <td>14.0</td>\n",
       "      <td>0.0</td>\n",
       "      <td>Surinder Khanna</td>\n",
       "      <td>Lose</td>\n",
       "    </tr>\n",
       "    <tr>\n",
       "      <th>8</th>\n",
       "      <td>Bangladesh</td>\n",
       "      <td>Pakistan</td>\n",
       "      <td>ODI</td>\n",
       "      <td>Moratuwa</td>\n",
       "      <td>1986</td>\n",
       "      <td>Lose</td>\n",
       "      <td>Batting</td>\n",
       "      <td>94.0</td>\n",
       "      <td>10.0</td>\n",
       "      <td>0.0</td>\n",
       "      <td>0.0</td>\n",
       "      <td>9.0</td>\n",
       "      <td>2.64</td>\n",
       "      <td>24.63</td>\n",
       "      <td>37.0</td>\n",
       "      <td>3.0</td>\n",
       "      <td>5.0</td>\n",
       "      <td>2.0</td>\n",
       "      <td>Wasim Akram</td>\n",
       "      <td>Lose</td>\n",
       "    </tr>\n",
       "    <tr>\n",
       "      <th>9</th>\n",
       "      <td>Pakistan</td>\n",
       "      <td>Bangladesh</td>\n",
       "      <td>ODI</td>\n",
       "      <td>Moratuwa</td>\n",
       "      <td>1986</td>\n",
       "      <td>Win</td>\n",
       "      <td>Bowling</td>\n",
       "      <td>98.0</td>\n",
       "      <td>3.0</td>\n",
       "      <td>4.0</td>\n",
       "      <td>0.0</td>\n",
       "      <td>5.0</td>\n",
       "      <td>3.04</td>\n",
       "      <td>36.79</td>\n",
       "      <td>47.0</td>\n",
       "      <td>10.0</td>\n",
       "      <td>9.0</td>\n",
       "      <td>4.0</td>\n",
       "      <td>Wasim Akram</td>\n",
       "      <td>Win</td>\n",
       "    </tr>\n",
       "    <tr>\n",
       "      <th>16</th>\n",
       "      <td>Bangladesh</td>\n",
       "      <td>India</td>\n",
       "      <td>ODI</td>\n",
       "      <td>Chattogram</td>\n",
       "      <td>1988</td>\n",
       "      <td>Lose</td>\n",
       "      <td>Batting</td>\n",
       "      <td>99.0</td>\n",
       "      <td>8.0</td>\n",
       "      <td>5.0</td>\n",
       "      <td>0.0</td>\n",
       "      <td>13.0</td>\n",
       "      <td>2.20</td>\n",
       "      <td>36.13</td>\n",
       "      <td>22.0</td>\n",
       "      <td>1.0</td>\n",
       "      <td>7.0</td>\n",
       "      <td>1.0</td>\n",
       "      <td>Navjot Sidhu</td>\n",
       "      <td>Lose</td>\n",
       "    </tr>\n",
       "  </tbody>\n",
       "</table>\n",
       "</div>"
      ],
      "text/plain": [
       "          Team    Opponent Format      Ground  Year  Toss Selection  \\\n",
       "2        India   Sri Lanka    ODI     Sharjah  1984   Win   Bowling   \n",
       "3    Sri Lanka       India    ODI     Sharjah  1984  Lose   Batting   \n",
       "8   Bangladesh    Pakistan    ODI    Moratuwa  1986  Lose   Batting   \n",
       "9     Pakistan  Bangladesh    ODI    Moratuwa  1986   Win   Bowling   \n",
       "16  Bangladesh       India    ODI  Chattogram  1988  Lose   Batting   \n",
       "\n",
       "    Run Scored  Wicket Lost  Fours  Sixes  Extras  Run Rate  \\\n",
       "2         97.0          0.0    9.0    0.0    14.0      4.47   \n",
       "3         96.0         10.0    7.0    0.0     8.0      2.34   \n",
       "8         94.0         10.0    0.0    0.0     9.0      2.64   \n",
       "9         98.0          3.0    4.0    0.0     5.0      3.04   \n",
       "16        99.0          8.0    5.0    0.0    13.0      2.20   \n",
       "\n",
       "    Avg Bat Strike Rate  Highest Score  Wicket Taken  Given Extras  \\\n",
       "2                 60.48           51.0          10.0           8.0   \n",
       "3                 25.74           38.0           0.0          14.0   \n",
       "8                 24.63           37.0           3.0           5.0   \n",
       "9                 36.79           47.0          10.0           9.0   \n",
       "16                36.13           22.0           1.0           7.0   \n",
       "\n",
       "    Highest Individual wicket Player Of The Match Result  \n",
       "2                         3.0     Surinder Khanna    Win  \n",
       "3                         0.0     Surinder Khanna   Lose  \n",
       "8                         2.0         Wasim Akram   Lose  \n",
       "9                         4.0         Wasim Akram    Win  \n",
       "16                        1.0        Navjot Sidhu   Lose  "
      ]
     },
     "execution_count": 31,
     "metadata": {},
     "output_type": "execute_result"
    }
   ],
   "source": [
    "least_scorer = ac[ac[\"Run Scored\"]<=100.0]\n",
    "least_scorer.head()\n"
   ]
  },
  {
   "cell_type": "code",
   "execution_count": 32,
   "id": "fb1694b0",
   "metadata": {},
   "outputs": [
    {
     "data": {
      "text/html": [
       "<div>\n",
       "<style scoped>\n",
       "    .dataframe tbody tr th:only-of-type {\n",
       "        vertical-align: middle;\n",
       "    }\n",
       "\n",
       "    .dataframe tbody tr th {\n",
       "        vertical-align: top;\n",
       "    }\n",
       "\n",
       "    .dataframe thead th {\n",
       "        text-align: right;\n",
       "    }\n",
       "</style>\n",
       "<table border=\"1\" class=\"dataframe\">\n",
       "  <thead>\n",
       "    <tr style=\"text-align: right;\">\n",
       "      <th></th>\n",
       "      <th>Team</th>\n",
       "      <th>Opponent</th>\n",
       "      <th>Format</th>\n",
       "      <th>Ground</th>\n",
       "      <th>Year</th>\n",
       "      <th>Toss</th>\n",
       "      <th>Selection</th>\n",
       "      <th>Run Scored</th>\n",
       "      <th>Wicket Lost</th>\n",
       "      <th>Fours</th>\n",
       "      <th>Sixes</th>\n",
       "      <th>Extras</th>\n",
       "      <th>Run Rate</th>\n",
       "      <th>Avg Bat Strike Rate</th>\n",
       "      <th>Highest Score</th>\n",
       "      <th>Wicket Taken</th>\n",
       "      <th>Given Extras</th>\n",
       "      <th>Highest Individual wicket</th>\n",
       "      <th>Player Of The Match</th>\n",
       "      <th>Result</th>\n",
       "    </tr>\n",
       "  </thead>\n",
       "  <tbody>\n",
       "    <tr>\n",
       "      <th>2</th>\n",
       "      <td>India</td>\n",
       "      <td>Sri Lanka</td>\n",
       "      <td>ODI</td>\n",
       "      <td>Sharjah</td>\n",
       "      <td>1984</td>\n",
       "      <td>Win</td>\n",
       "      <td>Bowling</td>\n",
       "      <td>97.0</td>\n",
       "      <td>0.0</td>\n",
       "      <td>9.0</td>\n",
       "      <td>0.0</td>\n",
       "      <td>14.0</td>\n",
       "      <td>4.47</td>\n",
       "      <td>60.48</td>\n",
       "      <td>51.0</td>\n",
       "      <td>10.0</td>\n",
       "      <td>8.0</td>\n",
       "      <td>3.0</td>\n",
       "      <td>Surinder Khanna</td>\n",
       "      <td>Win</td>\n",
       "    </tr>\n",
       "    <tr>\n",
       "      <th>3</th>\n",
       "      <td>Sri Lanka</td>\n",
       "      <td>India</td>\n",
       "      <td>ODI</td>\n",
       "      <td>Sharjah</td>\n",
       "      <td>1984</td>\n",
       "      <td>Lose</td>\n",
       "      <td>Batting</td>\n",
       "      <td>96.0</td>\n",
       "      <td>10.0</td>\n",
       "      <td>7.0</td>\n",
       "      <td>0.0</td>\n",
       "      <td>8.0</td>\n",
       "      <td>2.34</td>\n",
       "      <td>25.74</td>\n",
       "      <td>38.0</td>\n",
       "      <td>0.0</td>\n",
       "      <td>14.0</td>\n",
       "      <td>0.0</td>\n",
       "      <td>Surinder Khanna</td>\n",
       "      <td>Lose</td>\n",
       "    </tr>\n",
       "    <tr>\n",
       "      <th>8</th>\n",
       "      <td>Bangladesh</td>\n",
       "      <td>Pakistan</td>\n",
       "      <td>ODI</td>\n",
       "      <td>Moratuwa</td>\n",
       "      <td>1986</td>\n",
       "      <td>Lose</td>\n",
       "      <td>Batting</td>\n",
       "      <td>94.0</td>\n",
       "      <td>10.0</td>\n",
       "      <td>0.0</td>\n",
       "      <td>0.0</td>\n",
       "      <td>9.0</td>\n",
       "      <td>2.64</td>\n",
       "      <td>24.63</td>\n",
       "      <td>37.0</td>\n",
       "      <td>3.0</td>\n",
       "      <td>5.0</td>\n",
       "      <td>2.0</td>\n",
       "      <td>Wasim Akram</td>\n",
       "      <td>Lose</td>\n",
       "    </tr>\n",
       "    <tr>\n",
       "      <th>9</th>\n",
       "      <td>Pakistan</td>\n",
       "      <td>Bangladesh</td>\n",
       "      <td>ODI</td>\n",
       "      <td>Moratuwa</td>\n",
       "      <td>1986</td>\n",
       "      <td>Win</td>\n",
       "      <td>Bowling</td>\n",
       "      <td>98.0</td>\n",
       "      <td>3.0</td>\n",
       "      <td>4.0</td>\n",
       "      <td>0.0</td>\n",
       "      <td>5.0</td>\n",
       "      <td>3.04</td>\n",
       "      <td>36.79</td>\n",
       "      <td>47.0</td>\n",
       "      <td>10.0</td>\n",
       "      <td>9.0</td>\n",
       "      <td>4.0</td>\n",
       "      <td>Wasim Akram</td>\n",
       "      <td>Win</td>\n",
       "    </tr>\n",
       "    <tr>\n",
       "      <th>16</th>\n",
       "      <td>Bangladesh</td>\n",
       "      <td>India</td>\n",
       "      <td>ODI</td>\n",
       "      <td>Chattogram</td>\n",
       "      <td>1988</td>\n",
       "      <td>Lose</td>\n",
       "      <td>Batting</td>\n",
       "      <td>99.0</td>\n",
       "      <td>8.0</td>\n",
       "      <td>5.0</td>\n",
       "      <td>0.0</td>\n",
       "      <td>13.0</td>\n",
       "      <td>2.20</td>\n",
       "      <td>36.13</td>\n",
       "      <td>22.0</td>\n",
       "      <td>1.0</td>\n",
       "      <td>7.0</td>\n",
       "      <td>1.0</td>\n",
       "      <td>Navjot Sidhu</td>\n",
       "      <td>Lose</td>\n",
       "    </tr>\n",
       "  </tbody>\n",
       "</table>\n",
       "</div>"
      ],
      "text/plain": [
       "          Team    Opponent Format      Ground  Year  Toss Selection  \\\n",
       "2        India   Sri Lanka    ODI     Sharjah  1984   Win   Bowling   \n",
       "3    Sri Lanka       India    ODI     Sharjah  1984  Lose   Batting   \n",
       "8   Bangladesh    Pakistan    ODI    Moratuwa  1986  Lose   Batting   \n",
       "9     Pakistan  Bangladesh    ODI    Moratuwa  1986   Win   Bowling   \n",
       "16  Bangladesh       India    ODI  Chattogram  1988  Lose   Batting   \n",
       "\n",
       "    Run Scored  Wicket Lost  Fours  Sixes  Extras  Run Rate  \\\n",
       "2         97.0          0.0    9.0    0.0    14.0      4.47   \n",
       "3         96.0         10.0    7.0    0.0     8.0      2.34   \n",
       "8         94.0         10.0    0.0    0.0     9.0      2.64   \n",
       "9         98.0          3.0    4.0    0.0     5.0      3.04   \n",
       "16        99.0          8.0    5.0    0.0    13.0      2.20   \n",
       "\n",
       "    Avg Bat Strike Rate  Highest Score  Wicket Taken  Given Extras  \\\n",
       "2                 60.48           51.0          10.0           8.0   \n",
       "3                 25.74           38.0           0.0          14.0   \n",
       "8                 24.63           37.0           3.0           5.0   \n",
       "9                 36.79           47.0          10.0           9.0   \n",
       "16                36.13           22.0           1.0           7.0   \n",
       "\n",
       "    Highest Individual wicket Player Of The Match Result  \n",
       "2                         3.0     Surinder Khanna    Win  \n",
       "3                         0.0     Surinder Khanna   Lose  \n",
       "8                         2.0         Wasim Akram   Lose  \n",
       "9                         4.0         Wasim Akram    Win  \n",
       "16                        1.0        Navjot Sidhu   Lose  "
      ]
     },
     "execution_count": 32,
     "metadata": {},
     "output_type": "execute_result"
    }
   ],
   "source": [
    "least_scorer_ODI = least_scorer[least_scorer[\"Format\"]==\"ODI\"] # it will be helpful in specify data\n",
    "least_scorer_ODI.head()"
   ]
  },
  {
   "cell_type": "code",
   "execution_count": 33,
   "id": "a0681ec7",
   "metadata": {},
   "outputs": [
    {
     "data": {
      "text/plain": [
       "Team\n",
       "Bangladesh    3\n",
       "India         2\n",
       "Sri Lanka     1\n",
       "Pakistan      1\n",
       "Name: count, dtype: int64"
      ]
     },
     "execution_count": 33,
     "metadata": {},
     "output_type": "execute_result"
    }
   ],
   "source": [
    "least_scorer_ODI[\"Team\"].value_counts()"
   ]
  },
  {
   "cell_type": "code",
   "execution_count": 34,
   "id": "764a3b01",
   "metadata": {},
   "outputs": [
    {
     "data": {
      "text/plain": [
       "Team\n",
       "Sri Lanka      21\n",
       "Pakistan       16\n",
       "India          10\n",
       "Bangladesh      7\n",
       "Afghanistan     3\n",
       "Name: count, dtype: int64"
      ]
     },
     "execution_count": 34,
     "metadata": {},
     "output_type": "execute_result"
    }
   ],
   "source": [
    "select_batting = ac[ac[\"Selection\"]==\"Batting\"]\n",
    "win_by_runs = select_batting[select_batting[\"Result\"]==\"Win\"]\n",
    "\n",
    "win_count=win_by_runs[\"Team\"].value_counts() # Sri Lanka Won Most matches by batting first\n",
    "win_count"
   ]
  },
  {
   "cell_type": "code",
   "execution_count": 35,
   "id": "fa0f6a63",
   "metadata": {},
   "outputs": [
    {
     "data": {
      "image/png": "[encoded data removed]",
      "text/plain": [
       "<Figure size 700x300 with 1 Axes>"
      ]
     },
     "metadata": {},
     "output_type": "display_data"
    }
   ],
   "source": [
    "plt.figure(figsize=(7,3))\n",
    "plt.bar(win_count.keys(),win_count,color=[\"yellow\",\"darkgreen\",\"steelblue\",\"red\",\"lightseagreen\"])\n",
    "plt.show()"
   ]
  },
  {
   "cell_type": "code",
   "execution_count": 36,
   "id": "ca9bdba3",
   "metadata": {},
   "outputs": [
    {
     "data": {
      "text/plain": [
       "Team\n",
       "India          29\n",
       "Sri Lanka      18\n",
       "Pakistan       15\n",
       "Bangladesh      2\n",
       "Afghanistan     2\n",
       "Name: count, dtype: int64"
      ]
     },
     "execution_count": 36,
     "metadata": {},
     "output_type": "execute_result"
    }
   ],
   "source": [
    "select_bowling = ac[ac[\"Selection\"]==\"Bowling\"]\n",
    "win_by_wickets = select_bowling[select_bowling[\"Result\"]==\"Win\"]\n",
    "\n",
    "win_count = win_by_wickets[\"Team\"].value_counts() # India Won Most matches by bowling first\n",
    "win_count"
   ]
  },
  {
   "cell_type": "code",
   "execution_count": 37,
   "id": "05a65555",
   "metadata": {},
   "outputs": [
    {
     "data": {
      "image/png": "[encoded data removed]",
      "text/plain": [
       "<Figure size 700x300 with 1 Axes>"
      ]
     },
     "metadata": {},
     "output_type": "display_data"
    }
   ],
   "source": [
    "plt.figure(figsize=(7,3))\n",
    "plt.bar(win_count.keys(),win_count,color=[\"steelblue\",\"yellow\",\"darkgreen\",\"red\",\"lightseagreen\"])\n",
    "plt.show()"
   ]
  },
  {
   "cell_type": "code",
   "execution_count": null,
   "id": "b6d88b81",
   "metadata": {},
   "outputs": [],
   "source": []
  },
  {
   "cell_type": "markdown",
   "id": "7adae51c",
   "metadata": {},
   "source": [
    "# INDIA'S ANALYSIS:"
   ]
  },
  {
   "cell_type": "code",
   "execution_count": 38,
   "id": "a348630d",
   "metadata": {},
   "outputs": [
    {
     "data": {
      "text/plain": [
       "(59, 20)"
      ]
     },
     "execution_count": 38,
     "metadata": {},
     "output_type": "execute_result"
    }
   ],
   "source": [
    "ind = ac[ac[\"Team\"]==\"India\"]\n",
    "ind.shape"
   ]
  },
  {
   "cell_type": "code",
   "execution_count": 39,
   "id": "e4d9b57d",
   "metadata": {},
   "outputs": [
    {
     "data": {
      "text/plain": [
       "(26, 20)"
      ]
     },
     "execution_count": 39,
     "metadata": {},
     "output_type": "execute_result"
    }
   ],
   "source": [
    "ind_win_toss = ind[ind[\"Toss\"]==\"Win\"] # india won toss\n",
    "ind_win_toss.shape"
   ]
  },
  {
   "cell_type": "code",
   "execution_count": 40,
   "id": "68cc2672",
   "metadata": {},
   "outputs": [
    {
     "data": {
      "text/plain": [
       "(21, 20)"
      ]
     },
     "execution_count": 40,
     "metadata": {},
     "output_type": "execute_result"
    }
   ],
   "source": [
    "ind_toss_win_match_win = ind_win_toss[ind_win_toss[\"Result\"]==\"Win\"] #india win match when win toss\n",
    "ind_toss_win_match_win.shape"
   ]
  },
  {
   "cell_type": "code",
   "execution_count": 41,
   "id": "118cde1a",
   "metadata": {},
   "outputs": [
    {
     "data": {
      "text/plain": [
       "(33, 20)"
      ]
     },
     "execution_count": 41,
     "metadata": {},
     "output_type": "execute_result"
    }
   ],
   "source": [
    "ind_lose_toss = ind[ind[\"Toss\"]==\"Lose\"] # india lose toss\n",
    "ind_lose_toss.shape"
   ]
  },
  {
   "cell_type": "code",
   "execution_count": 42,
   "id": "e12fe366",
   "metadata": {},
   "outputs": [
    {
     "data": {
      "text/html": [
       "<div>\n",
       "<style scoped>\n",
       "    .dataframe tbody tr th:only-of-type {\n",
       "        vertical-align: middle;\n",
       "    }\n",
       "\n",
       "    .dataframe tbody tr th {\n",
       "        vertical-align: top;\n",
       "    }\n",
       "\n",
       "    .dataframe thead th {\n",
       "        text-align: right;\n",
       "    }\n",
       "</style>\n",
       "<table border=\"1\" class=\"dataframe\">\n",
       "  <thead>\n",
       "    <tr style=\"text-align: right;\">\n",
       "      <th></th>\n",
       "      <th>Team</th>\n",
       "      <th>Opponent</th>\n",
       "      <th>Format</th>\n",
       "      <th>Ground</th>\n",
       "      <th>Year</th>\n",
       "      <th>Toss</th>\n",
       "      <th>Selection</th>\n",
       "      <th>Run Scored</th>\n",
       "      <th>Wicket Lost</th>\n",
       "      <th>Fours</th>\n",
       "      <th>Sixes</th>\n",
       "      <th>Extras</th>\n",
       "      <th>Run Rate</th>\n",
       "      <th>Avg Bat Strike Rate</th>\n",
       "      <th>Highest Score</th>\n",
       "      <th>Wicket Taken</th>\n",
       "      <th>Given Extras</th>\n",
       "      <th>Highest Individual wicket</th>\n",
       "      <th>Player Of The Match</th>\n",
       "      <th>Result</th>\n",
       "    </tr>\n",
       "  </thead>\n",
       "  <tbody>\n",
       "    <tr>\n",
       "      <th>28</th>\n",
       "      <td>India</td>\n",
       "      <td>Bangladesh</td>\n",
       "      <td>ODI</td>\n",
       "      <td>Chandigarh</td>\n",
       "      <td>1990</td>\n",
       "      <td>Lose</td>\n",
       "      <td>Bowling</td>\n",
       "      <td>171.0</td>\n",
       "      <td>1.0</td>\n",
       "      <td>12.0</td>\n",
       "      <td>3.0</td>\n",
       "      <td>12.0</td>\n",
       "      <td>4.64</td>\n",
       "      <td>63.78</td>\n",
       "      <td>104.0</td>\n",
       "      <td>6.0</td>\n",
       "      <td>29.0</td>\n",
       "      <td>2.0</td>\n",
       "      <td>Navjot Sidhu</td>\n",
       "      <td>Win</td>\n",
       "    </tr>\n",
       "    <tr>\n",
       "      <th>37</th>\n",
       "      <td>India</td>\n",
       "      <td>Bangladesh</td>\n",
       "      <td>ODI</td>\n",
       "      <td>Sharjah</td>\n",
       "      <td>1995</td>\n",
       "      <td>Lose</td>\n",
       "      <td>Bowling</td>\n",
       "      <td>164.0</td>\n",
       "      <td>1.0</td>\n",
       "      <td>21.0</td>\n",
       "      <td>1.0</td>\n",
       "      <td>7.0</td>\n",
       "      <td>5.89</td>\n",
       "      <td>110.24</td>\n",
       "      <td>56.0</td>\n",
       "      <td>10.0</td>\n",
       "      <td>11.0</td>\n",
       "      <td>2.0</td>\n",
       "      <td>Manoj Prabhakar</td>\n",
       "      <td>Win</td>\n",
       "    </tr>\n",
       "    <tr>\n",
       "      <th>44</th>\n",
       "      <td>India</td>\n",
       "      <td>Sri Lanka</td>\n",
       "      <td>ODI</td>\n",
       "      <td>Sharjah</td>\n",
       "      <td>1995</td>\n",
       "      <td>Lose</td>\n",
       "      <td>Bowling</td>\n",
       "      <td>206.0</td>\n",
       "      <td>2.0</td>\n",
       "      <td>24.0</td>\n",
       "      <td>1.0</td>\n",
       "      <td>17.0</td>\n",
       "      <td>6.21</td>\n",
       "      <td>85.03</td>\n",
       "      <td>112.0</td>\n",
       "      <td>9.0</td>\n",
       "      <td>29.0</td>\n",
       "      <td>3.0</td>\n",
       "      <td>Sachin Tendulkar</td>\n",
       "      <td>Win</td>\n",
       "    </tr>\n",
       "    <tr>\n",
       "      <th>67</th>\n",
       "      <td>India</td>\n",
       "      <td>Bangladesh</td>\n",
       "      <td>ODI</td>\n",
       "      <td>Dhaka</td>\n",
       "      <td>2000</td>\n",
       "      <td>Lose</td>\n",
       "      <td>Bowling</td>\n",
       "      <td>252.0</td>\n",
       "      <td>2.0</td>\n",
       "      <td>17.0</td>\n",
       "      <td>9.0</td>\n",
       "      <td>11.0</td>\n",
       "      <td>6.27</td>\n",
       "      <td>100.72</td>\n",
       "      <td>135.0</td>\n",
       "      <td>6.0</td>\n",
       "      <td>17.0</td>\n",
       "      <td>3.0</td>\n",
       "      <td>Sourav Ganguly</td>\n",
       "      <td>Win</td>\n",
       "    </tr>\n",
       "    <tr>\n",
       "      <th>113</th>\n",
       "      <td>India</td>\n",
       "      <td>Pakistan</td>\n",
       "      <td>ODI</td>\n",
       "      <td>Karachi</td>\n",
       "      <td>2008</td>\n",
       "      <td>Lose</td>\n",
       "      <td>Bowling</td>\n",
       "      <td>301.0</td>\n",
       "      <td>4.0</td>\n",
       "      <td>25.0</td>\n",
       "      <td>12.0</td>\n",
       "      <td>15.0</td>\n",
       "      <td>7.13</td>\n",
       "      <td>85.13</td>\n",
       "      <td>119.0</td>\n",
       "      <td>4.0</td>\n",
       "      <td>7.0</td>\n",
       "      <td>1.0</td>\n",
       "      <td>Suresh Raina</td>\n",
       "      <td>Win</td>\n",
       "    </tr>\n",
       "  </tbody>\n",
       "</table>\n",
       "</div>"
      ],
      "text/plain": [
       "      Team    Opponent Format      Ground  Year  Toss Selection  Run Scored  \\\n",
       "28   India  Bangladesh    ODI  Chandigarh  1990  Lose   Bowling       171.0   \n",
       "37   India  Bangladesh    ODI     Sharjah  1995  Lose   Bowling       164.0   \n",
       "44   India   Sri Lanka    ODI     Sharjah  1995  Lose   Bowling       206.0   \n",
       "67   India  Bangladesh    ODI       Dhaka  2000  Lose   Bowling       252.0   \n",
       "113  India    Pakistan    ODI     Karachi  2008  Lose   Bowling       301.0   \n",
       "\n",
       "     Wicket Lost  Fours  Sixes  Extras  Run Rate  Avg Bat Strike Rate  \\\n",
       "28           1.0   12.0    3.0    12.0      4.64                63.78   \n",
       "37           1.0   21.0    1.0     7.0      5.89               110.24   \n",
       "44           2.0   24.0    1.0    17.0      6.21                85.03   \n",
       "67           2.0   17.0    9.0    11.0      6.27               100.72   \n",
       "113          4.0   25.0   12.0    15.0      7.13                85.13   \n",
       "\n",
       "     Highest Score  Wicket Taken  Given Extras  Highest Individual wicket  \\\n",
       "28           104.0           6.0          29.0                        2.0   \n",
       "37            56.0          10.0          11.0                        2.0   \n",
       "44           112.0           9.0          29.0                        3.0   \n",
       "67           135.0           6.0          17.0                        3.0   \n",
       "113          119.0           4.0           7.0                        1.0   \n",
       "\n",
       "    Player Of The Match Result  \n",
       "28         Navjot Sidhu    Win  \n",
       "37      Manoj Prabhakar    Win  \n",
       "44     Sachin Tendulkar    Win  \n",
       "67       Sourav Ganguly    Win  \n",
       "113        Suresh Raina    Win  "
      ]
     },
     "execution_count": 42,
     "metadata": {},
     "output_type": "execute_result"
    }
   ],
   "source": [
    "ind_toss_lose_match_win = ind_lose_toss[ind_lose_toss[\"Result\"]==\"Win\"] # 50-50\n",
    "ind_toss_lose_match_win.head()"
   ]
  },
  {
   "cell_type": "code",
   "execution_count": 43,
   "id": "f50016ee",
   "metadata": {},
   "outputs": [
    {
     "data": {
      "text/html": [
       "<div>\n",
       "<style scoped>\n",
       "    .dataframe tbody tr th:only-of-type {\n",
       "        vertical-align: middle;\n",
       "    }\n",
       "\n",
       "    .dataframe tbody tr th {\n",
       "        vertical-align: top;\n",
       "    }\n",
       "\n",
       "    .dataframe thead th {\n",
       "        text-align: right;\n",
       "    }\n",
       "</style>\n",
       "<table border=\"1\" class=\"dataframe\">\n",
       "  <thead>\n",
       "    <tr style=\"text-align: right;\">\n",
       "      <th></th>\n",
       "      <th>Team</th>\n",
       "      <th>Opponent</th>\n",
       "      <th>Format</th>\n",
       "      <th>Ground</th>\n",
       "      <th>Year</th>\n",
       "      <th>Toss</th>\n",
       "      <th>Selection</th>\n",
       "      <th>Run Scored</th>\n",
       "      <th>Wicket Lost</th>\n",
       "      <th>Fours</th>\n",
       "      <th>Sixes</th>\n",
       "      <th>Extras</th>\n",
       "      <th>Run Rate</th>\n",
       "      <th>Avg Bat Strike Rate</th>\n",
       "      <th>Highest Score</th>\n",
       "      <th>Wicket Taken</th>\n",
       "      <th>Given Extras</th>\n",
       "      <th>Highest Individual wicket</th>\n",
       "      <th>Player Of The Match</th>\n",
       "      <th>Result</th>\n",
       "    </tr>\n",
       "  </thead>\n",
       "  <tbody>\n",
       "    <tr>\n",
       "      <th>209</th>\n",
       "      <td>India</td>\n",
       "      <td>Hong Kong</td>\n",
       "      <td>ODI</td>\n",
       "      <td>Dubai(DSC)</td>\n",
       "      <td>2018</td>\n",
       "      <td>Lose</td>\n",
       "      <td>Batting</td>\n",
       "      <td>285.0</td>\n",
       "      <td>7.0</td>\n",
       "      <td>25.0</td>\n",
       "      <td>5.0</td>\n",
       "      <td>5.0</td>\n",
       "      <td>5.70</td>\n",
       "      <td>67.08</td>\n",
       "      <td>127.0</td>\n",
       "      <td>8.0</td>\n",
       "      <td>13.0</td>\n",
       "      <td>3.0</td>\n",
       "      <td>Shikhar Dhawan</td>\n",
       "      <td>Win</td>\n",
       "    </tr>\n",
       "    <tr>\n",
       "      <th>113</th>\n",
       "      <td>India</td>\n",
       "      <td>Pakistan</td>\n",
       "      <td>ODI</td>\n",
       "      <td>Karachi</td>\n",
       "      <td>2008</td>\n",
       "      <td>Lose</td>\n",
       "      <td>Bowling</td>\n",
       "      <td>301.0</td>\n",
       "      <td>4.0</td>\n",
       "      <td>25.0</td>\n",
       "      <td>12.0</td>\n",
       "      <td>15.0</td>\n",
       "      <td>7.13</td>\n",
       "      <td>85.13</td>\n",
       "      <td>119.0</td>\n",
       "      <td>4.0</td>\n",
       "      <td>7.0</td>\n",
       "      <td>1.0</td>\n",
       "      <td>Suresh Raina</td>\n",
       "      <td>Win</td>\n",
       "    </tr>\n",
       "    <tr>\n",
       "      <th>146</th>\n",
       "      <td>India</td>\n",
       "      <td>Sri Lanka</td>\n",
       "      <td>ODI</td>\n",
       "      <td>Mirpur</td>\n",
       "      <td>2012</td>\n",
       "      <td>Lose</td>\n",
       "      <td>Batting</td>\n",
       "      <td>304.0</td>\n",
       "      <td>3.0</td>\n",
       "      <td>24.0</td>\n",
       "      <td>2.0</td>\n",
       "      <td>14.0</td>\n",
       "      <td>6.08</td>\n",
       "      <td>111.94</td>\n",
       "      <td>108.0</td>\n",
       "      <td>10.0</td>\n",
       "      <td>8.0</td>\n",
       "      <td>4.0</td>\n",
       "      <td>Virat Kohli</td>\n",
       "      <td>Win</td>\n",
       "    </tr>\n",
       "    <tr>\n",
       "      <th>124</th>\n",
       "      <td>India</td>\n",
       "      <td>Sri Lanka</td>\n",
       "      <td>ODI</td>\n",
       "      <td>Karachi</td>\n",
       "      <td>2008</td>\n",
       "      <td>Lose</td>\n",
       "      <td>Bowling</td>\n",
       "      <td>310.0</td>\n",
       "      <td>4.0</td>\n",
       "      <td>30.0</td>\n",
       "      <td>3.0</td>\n",
       "      <td>21.0</td>\n",
       "      <td>6.61</td>\n",
       "      <td>103.26</td>\n",
       "      <td>68.0</td>\n",
       "      <td>8.0</td>\n",
       "      <td>15.0</td>\n",
       "      <td>2.0</td>\n",
       "      <td>MS Dhoni</td>\n",
       "      <td>Win</td>\n",
       "    </tr>\n",
       "    <tr>\n",
       "      <th>152</th>\n",
       "      <td>India</td>\n",
       "      <td>Pakistan</td>\n",
       "      <td>ODI</td>\n",
       "      <td>Mirpur</td>\n",
       "      <td>2012</td>\n",
       "      <td>Lose</td>\n",
       "      <td>Bowling</td>\n",
       "      <td>330.0</td>\n",
       "      <td>4.0</td>\n",
       "      <td>34.0</td>\n",
       "      <td>4.0</td>\n",
       "      <td>11.0</td>\n",
       "      <td>6.89</td>\n",
       "      <td>152.32</td>\n",
       "      <td>183.0</td>\n",
       "      <td>6.0</td>\n",
       "      <td>15.0</td>\n",
       "      <td>2.0</td>\n",
       "      <td>Virat Kohli</td>\n",
       "      <td>Win</td>\n",
       "    </tr>\n",
       "  </tbody>\n",
       "</table>\n",
       "</div>"
      ],
      "text/plain": [
       "      Team   Opponent Format      Ground  Year  Toss Selection  Run Scored  \\\n",
       "209  India  Hong Kong    ODI  Dubai(DSC)  2018  Lose   Batting       285.0   \n",
       "113  India   Pakistan    ODI     Karachi  2008  Lose   Bowling       301.0   \n",
       "146  India  Sri Lanka    ODI      Mirpur  2012  Lose   Batting       304.0   \n",
       "124  India  Sri Lanka    ODI     Karachi  2008  Lose   Bowling       310.0   \n",
       "152  India   Pakistan    ODI      Mirpur  2012  Lose   Bowling       330.0   \n",
       "\n",
       "     Wicket Lost  Fours  Sixes  Extras  Run Rate  Avg Bat Strike Rate  \\\n",
       "209          7.0   25.0    5.0     5.0      5.70                67.08   \n",
       "113          4.0   25.0   12.0    15.0      7.13                85.13   \n",
       "146          3.0   24.0    2.0    14.0      6.08               111.94   \n",
       "124          4.0   30.0    3.0    21.0      6.61               103.26   \n",
       "152          4.0   34.0    4.0    11.0      6.89               152.32   \n",
       "\n",
       "     Highest Score  Wicket Taken  Given Extras  Highest Individual wicket  \\\n",
       "209          127.0           8.0          13.0                        3.0   \n",
       "113          119.0           4.0           7.0                        1.0   \n",
       "146          108.0          10.0           8.0                        4.0   \n",
       "124           68.0           8.0          15.0                        2.0   \n",
       "152          183.0           6.0          15.0                        2.0   \n",
       "\n",
       "    Player Of The Match Result  \n",
       "209      Shikhar Dhawan    Win  \n",
       "113        Suresh Raina    Win  \n",
       "146         Virat Kohli    Win  \n",
       "124            MS Dhoni    Win  \n",
       "152         Virat Kohli    Win  "
      ]
     },
     "execution_count": 43,
     "metadata": {},
     "output_type": "execute_result"
    }
   ],
   "source": [
    "sorted_wins = ind_toss_lose_match_win.sort_values(by=\"Run Scored\")\n",
    "sorted_wins.tail()"
   ]
  },
  {
   "cell_type": "code",
   "execution_count": 44,
   "id": "05844278",
   "metadata": {},
   "outputs": [
    {
     "name": "stderr",
     "output_type": "stream",
     "text": [
      "C:\\python3114\\Lib\\site-packages\\seaborn\\_oldcore.py:1498: FutureWarning: is_categorical_dtype is deprecated and will be removed in a future version. Use isinstance(dtype, CategoricalDtype) instead\n",
      "  if pd.api.types.is_categorical_dtype(vector):\n",
      "C:\\python3114\\Lib\\site-packages\\seaborn\\_oldcore.py:1498: FutureWarning: is_categorical_dtype is deprecated and will be removed in a future version. Use isinstance(dtype, CategoricalDtype) instead\n",
      "  if pd.api.types.is_categorical_dtype(vector):\n"
     ]
    },
    {
     "data": {
      "text/plain": [
       "<Axes: xlabel='Year', ylabel='Run Scored'>"
      ]
     },
     "execution_count": 44,
     "metadata": {},
     "output_type": "execute_result"
    },
    {
     "data": {
      "image/png": "[encoded data removed]",
      "text/plain": [
       "<Figure size 600x300 with 2 Axes>"
      ]
     },
     "metadata": {},
     "output_type": "display_data"
    }
   ],
   "source": [
    "plt.figure(figsize=(6,3))\n",
    "plt.subplot(1,2,1)\n",
    "plt.bar(sorted_wins[\"Year\"],sorted_wins[\"Run Scored\"])\n",
    "plt.subplot(1,2,2)\n",
    "sns.scatterplot(x=sorted_wins[\"Year\"],y=sorted_wins[\"Run Scored\"])"
   ]
  },
  {
   "cell_type": "code",
   "execution_count": 45,
   "id": "08053326",
   "metadata": {
    "scrolled": true
   },
   "outputs": [
    {
     "data": {
      "text/plain": [
       "(19, 20)"
      ]
     },
     "execution_count": 45,
     "metadata": {},
     "output_type": "execute_result"
    }
   ],
   "source": [
    "ind_bat_first = ind[ind[\"Selection\"]==\"Batting\"] #batting first\n",
    "ind_bat_first.shape"
   ]
  },
  {
   "cell_type": "code",
   "execution_count": 46,
   "id": "953b712a",
   "metadata": {},
   "outputs": [
    {
     "data": {
      "text/plain": [
       "(10, 20)"
      ]
     },
     "execution_count": 46,
     "metadata": {},
     "output_type": "execute_result"
    }
   ],
   "source": [
    "ind_bat_first_win = ind_bat_first[ind_bat_first[\"Result\"]==\"Win\"] #win the game by batting first\n",
    "ind_bat_first_win.shape"
   ]
  },
  {
   "cell_type": "code",
   "execution_count": 47,
   "id": "7cf5175c",
   "metadata": {},
   "outputs": [
    {
     "data": {
      "text/plain": [
       "(40, 20)"
      ]
     },
     "execution_count": 47,
     "metadata": {},
     "output_type": "execute_result"
    }
   ],
   "source": [
    "ind_bowl_first = ind[ind[\"Selection\"]==\"Bowling\"]\n",
    "ind_bowl_first.shape"
   ]
  },
  {
   "cell_type": "code",
   "execution_count": 48,
   "id": "29e5bc2f",
   "metadata": {},
   "outputs": [
    {
     "data": {
      "text/plain": [
       "(29, 20)"
      ]
     },
     "execution_count": 48,
     "metadata": {},
     "output_type": "execute_result"
    }
   ],
   "source": [
    "ind_bowl_first_win = ind_bowl_first[ind_bowl_first[\"Result\"]==\"Win\"] #win the game by batting first\n",
    "ind_bowl_first_win.shape"
   ]
  }
 ],
 "metadata": {
  "kernelspec": {
   "display_name": "Python 3 (ipykernel)",
   "language": "python",
   "name": "python3"
  },
  "language_info": {
   "codemirror_mode": {
    "name": "ipython",
    "version": 3
   },
   "file_extension": ".py",
   "mimetype": "text/x-python",
   "name": "python",
   "nbconvert_exporter": "python",
   "pygments_lexer": "ipython3",
   "version": "3.11.4"
  }
 },
 "nbformat": 4,
 "nbformat_minor": 5
}
